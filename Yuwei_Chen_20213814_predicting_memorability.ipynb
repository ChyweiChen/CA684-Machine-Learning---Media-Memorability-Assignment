{
 "cells": [
  {
   "cell_type": "markdown",
   "metadata": {},
   "source": [
    "# CA684 Assignment: Multi-model  for Predicting Media Memorability \n",
    "### Yuwei Chen                                \n",
    "### Dublin City University\n",
    "\n",
    "\n",
    "In this project, I first used different single features for regression to obtain the memorability scores of the videos. In order to fuse multiple features,\n",
    "My strategy is to evaluate the models using Spearman's correlation coefficient, and to select the three best models for the short-term_memorability target and the long-term_memorability target, and then to assign weights to each model according to its Spearman's correlation coefficient to form a multi-model.\n",
    "I used four regressors as baseline models, namely support vector regression (SVR) and random forest regression (RFR), BayesianRidge (BR) and XGBoost model.In the end, the XGBoost model was abandoned because it performed too poorly."
   ]
  },
  {
   "cell_type": "code",
   "execution_count": null,
   "metadata": {},
   "outputs": [],
   "source": [
    "#import packet\n",
    "\n",
    "import matplotlib.pyplot as plt\n",
    "from matplotlib.font_manager import FontProperties\n",
    "import numpy as np\n",
    "import pandas as pd\n",
    "from sklearn.model_selection import train_test_split \n",
    "from sklearn.svm import SVR\n",
    "from sklearn.metrics import r2_score\n",
    "from pandas import Series,DataFrame\n",
    "from sklearn.ensemble import RandomForestRegressor\n",
    "from sklearn.linear_model import BayesianRidge\n",
    "from xgboost import XGBClassifier\n",
    "from sklearn.preprocessing import StandardScaler"
   ]
  },
  {
   "cell_type": "code",
   "execution_count": 2,
   "metadata": {},
   "outputs": [],
   "source": [
    "#function to get features from fname\n",
    "\n",
    "def read_C3D(fname):\n",
    "    \"\"\"Scan vectors from file\"\"\"\n",
    "    with open(fname) as f:\n",
    "        for line in f:\n",
    "            C3D =[float(item) for item in line.split()] # convert to float type, using default separator\n",
    "    return C3D\n",
    "\n",
    "def read_LBP(fname):\n",
    "    \"\"\"Scan vectors from file\"\"\"\n",
    "    with open(fname) as f:\n",
    "        for line in f:\n",
    "            LBP =[float(item) for item in line.split()] # convert to float type, using default separator\n",
    "    return LBP\n",
    "\n",
    "def read_HMP(fname):\n",
    "    \"\"\"Scan HMP(Histogram of Motion Patterns) features from file\"\"\"\n",
    "    with open(fname) as f:\n",
    "        for line in f:\n",
    "            pairs=line.split()\n",
    "            HMP_temp = { int(p.split(':')[0]) : float(p.split(':')[1]) for p in pairs}\n",
    "    # there are 6075 bins, fill zeros\n",
    "    HMP = np.zeros(6075)\n",
    "    for idx in HMP_temp.keys():\n",
    "        HMP[idx-1] = HMP_temp[idx]            \n",
    "    return HMP\n",
    "\n",
    "def read_AES(fname):\n",
    "    \"\"\"Scan vectors from file\"\"\"\n",
    "    with open(fname) as f:\n",
    "        for line in f:\n",
    "            LBP =[float(item) for item in line.split(\",\")] # convert to float type, using default separator\n",
    "    return LBP"
   ]
  },
  {
   "cell_type": "code",
   "execution_count": 3,
   "metadata": {},
   "outputs": [
    {
     "data": {
      "text/html": [
       "<div>\n",
       "<style scoped>\n",
       "    .dataframe tbody tr th:only-of-type {\n",
       "        vertical-align: middle;\n",
       "    }\n",
       "\n",
       "    .dataframe tbody tr th {\n",
       "        vertical-align: top;\n",
       "    }\n",
       "\n",
       "    .dataframe thead th {\n",
       "        text-align: right;\n",
       "    }\n",
       "</style>\n",
       "<table border=\"1\" class=\"dataframe\">\n",
       "  <thead>\n",
       "    <tr style=\"text-align: right;\">\n",
       "      <th></th>\n",
       "      <th>video</th>\n",
       "      <th>short-term_memorability</th>\n",
       "      <th>nb_short-term_annotations</th>\n",
       "      <th>long-term_memorability</th>\n",
       "      <th>nb_long-term_annotations</th>\n",
       "    </tr>\n",
       "  </thead>\n",
       "  <tbody>\n",
       "    <tr>\n",
       "      <th>0</th>\n",
       "      <td>video3.webm</td>\n",
       "      <td>0.924</td>\n",
       "      <td>34</td>\n",
       "      <td>0.846</td>\n",
       "      <td>13</td>\n",
       "    </tr>\n",
       "    <tr>\n",
       "      <th>1</th>\n",
       "      <td>video4.webm</td>\n",
       "      <td>0.923</td>\n",
       "      <td>33</td>\n",
       "      <td>0.667</td>\n",
       "      <td>12</td>\n",
       "    </tr>\n",
       "    <tr>\n",
       "      <th>2</th>\n",
       "      <td>video6.webm</td>\n",
       "      <td>0.863</td>\n",
       "      <td>33</td>\n",
       "      <td>0.700</td>\n",
       "      <td>10</td>\n",
       "    </tr>\n",
       "    <tr>\n",
       "      <th>3</th>\n",
       "      <td>video8.webm</td>\n",
       "      <td>0.922</td>\n",
       "      <td>33</td>\n",
       "      <td>0.818</td>\n",
       "      <td>11</td>\n",
       "    </tr>\n",
       "    <tr>\n",
       "      <th>4</th>\n",
       "      <td>video10.webm</td>\n",
       "      <td>0.950</td>\n",
       "      <td>34</td>\n",
       "      <td>0.900</td>\n",
       "      <td>10</td>\n",
       "    </tr>\n",
       "    <tr>\n",
       "      <th>...</th>\n",
       "      <td>...</td>\n",
       "      <td>...</td>\n",
       "      <td>...</td>\n",
       "      <td>...</td>\n",
       "      <td>...</td>\n",
       "    </tr>\n",
       "    <tr>\n",
       "      <th>5995</th>\n",
       "      <td>video7488.webm</td>\n",
       "      <td>0.921</td>\n",
       "      <td>33</td>\n",
       "      <td>1.000</td>\n",
       "      <td>9</td>\n",
       "    </tr>\n",
       "    <tr>\n",
       "      <th>5996</th>\n",
       "      <td>video7489.webm</td>\n",
       "      <td>0.909</td>\n",
       "      <td>53</td>\n",
       "      <td>0.839</td>\n",
       "      <td>31</td>\n",
       "    </tr>\n",
       "    <tr>\n",
       "      <th>5997</th>\n",
       "      <td>video7491.webm</td>\n",
       "      <td>0.713</td>\n",
       "      <td>33</td>\n",
       "      <td>0.818</td>\n",
       "      <td>11</td>\n",
       "    </tr>\n",
       "    <tr>\n",
       "      <th>5998</th>\n",
       "      <td>video7492.webm</td>\n",
       "      <td>0.954</td>\n",
       "      <td>34</td>\n",
       "      <td>1.000</td>\n",
       "      <td>16</td>\n",
       "    </tr>\n",
       "    <tr>\n",
       "      <th>5999</th>\n",
       "      <td>video7493.webm</td>\n",
       "      <td>0.953</td>\n",
       "      <td>33</td>\n",
       "      <td>0.615</td>\n",
       "      <td>13</td>\n",
       "    </tr>\n",
       "  </tbody>\n",
       "</table>\n",
       "<p>6000 rows × 5 columns</p>\n",
       "</div>"
      ],
      "text/plain": [
       "               video  short-term_memorability  nb_short-term_annotations  \\\n",
       "0        video3.webm                    0.924                         34   \n",
       "1        video4.webm                    0.923                         33   \n",
       "2        video6.webm                    0.863                         33   \n",
       "3        video8.webm                    0.922                         33   \n",
       "4       video10.webm                    0.950                         34   \n",
       "...              ...                      ...                        ...   \n",
       "5995  video7488.webm                    0.921                         33   \n",
       "5996  video7489.webm                    0.909                         53   \n",
       "5997  video7491.webm                    0.713                         33   \n",
       "5998  video7492.webm                    0.954                         34   \n",
       "5999  video7493.webm                    0.953                         33   \n",
       "\n",
       "      long-term_memorability  nb_long-term_annotations  \n",
       "0                      0.846                        13  \n",
       "1                      0.667                        12  \n",
       "2                      0.700                        10  \n",
       "3                      0.818                        11  \n",
       "4                      0.900                        10  \n",
       "...                      ...                       ...  \n",
       "5995                   1.000                         9  \n",
       "5996                   0.839                        31  \n",
       "5997                   0.818                        11  \n",
       "5998                   1.000                        16  \n",
       "5999                   0.615                        13  \n",
       "\n",
       "[6000 rows x 5 columns]"
      ]
     },
     "execution_count": 3,
     "metadata": {},
     "output_type": "execute_result"
    }
   ],
   "source": [
    "# load the ground truth values\n",
    "labels=pd.read_csv(\"Dev_set//Ground-truth/ground-truth.csv\")\n",
    "labels"
   ]
  },
  {
   "cell_type": "code",
   "execution_count": 4,
   "metadata": {},
   "outputs": [
    {
     "data": {
      "text/plain": [
       "0          3\n",
       "1          4\n",
       "2          6\n",
       "3          8\n",
       "4         10\n",
       "        ... \n",
       "5995    7488\n",
       "5996    7489\n",
       "5997    7491\n",
       "5998    7492\n",
       "5999    7493\n",
       "Name: video, Length: 6000, dtype: object"
      ]
     },
     "execution_count": 4,
     "metadata": {},
     "output_type": "execute_result"
    }
   ],
   "source": [
    "#Extract the video number from video name\n",
    "vname = labels.video\n",
    "vnum = vname.map(lambda x: str(x)[5:len(x)-5])\n",
    "vnum"
   ]
  },
  {
   "cell_type": "code",
   "execution_count": 5,
   "metadata": {},
   "outputs": [],
   "source": [
    "#short-term_memorability target\n",
    "y_stm_target = labels[\"short-term_memorability\"]\n",
    "#long-term_memorability target\n",
    "y_ltm_target = labels[\"long-term_memorability\"]\n"
   ]
  },
  {
   "cell_type": "code",
   "execution_count": 6,
   "metadata": {},
   "outputs": [],
   "source": [
    "# function to get features\n",
    "# this function is used to get HMP,C3D and Aesthetic features\n",
    "def get_features(feature_path , func):\n",
    "    df = DataFrame() #data frame used to save feature\n",
    "    index = 0\n",
    "    for video_num in vnum :\n",
    "        feature_file_name = feature_path + 'video' + video_num + '.txt' \n",
    "        data = func(feature_file_name)\n",
    "        df[index] = data\n",
    "        index +=1\n",
    "        \n",
    "    return df.T\n",
    "\n",
    "\n",
    "\n",
    "# this function is used to get LBP features \n",
    "def get_lbp_feature(flen, feature_path , func):\n",
    "    df = DataFrame() #data frame used to save feature\n",
    "    index = 0  #feature index\n",
    "    for video_num  in vnum :\n",
    "        feature_file_name_0 = feature_path + 'video' + video_num + '-0.txt' \n",
    "        data = func(feature_file_name_0)\n",
    "        #I found normal LBP feature data containing 22 features inside each file, \n",
    "        #but there were individual txt files that did not contain 122 feature values.\n",
    "        #so need to make sure len(data) is 122\n",
    "        data = data + [0] * (flen - len(data)) \n",
    "        feature_file_name_56 = feature_path + 'video' + video_num + '-56.txt'\n",
    "        temp = func(feature_file_name_56)\n",
    "        temp = temp + [0] * (flen - len(temp))\n",
    "        data.extend(temp) \n",
    "        feature_file_name_112 = feature_path + 'video' + video_num + '-112.txt'\n",
    "        temp = func(feature_file_name_112)\n",
    "        temp = temp + [0] * (flen - len(temp))\n",
    "        data.extend(temp) \n",
    "        df[index] = data\n",
    "        index += 1\n",
    "        \n",
    "    return df.T"
   ]
  },
  {
   "cell_type": "code",
   "execution_count": 7,
   "metadata": {},
   "outputs": [],
   "source": [
    "#get HMP feature from function\n",
    "x_hmp_feature = get_features(\"Dev_set/HMP/\",read_HMP)\n",
    "\n",
    "#get LBP feature from function\n",
    "x_c3d_feature = get_features(\"Dev_set/C3D/\",read_C3D)\n",
    "\n",
    "#get aesthetic_mean_feature\n",
    "x_aes_mean = get_features(\"Dev_set/aesthetic_feat_dev-set_mean/\",read_AES)\n",
    "\n",
    "#get aesthetic_median_feature\n",
    "x_aes_median = get_features(\"Dev_set/aesthetic_feat_dev-set_median//\",read_AES)\n",
    "\n",
    "#get LBP feature\n",
    "#count lenth of features in per LBP feature file, i.e  LBP feature in Dev_set/LBP/video3-0.txt\n",
    "lbp = read_LBP(\"Dev_set/LBP/video3-0.txt\")\n",
    "lbp_len = len(lbp)\n",
    "#get LBP feature from function\n",
    "x_lbp_feature = get_lbp_feature(lbp_len,\"Dev_set/LBP/\",read_LBP)"
   ]
  },
  {
   "cell_type": "code",
   "execution_count": 8,
   "metadata": {},
   "outputs": [],
   "source": [
    "#function for Spearman's correlation coefficient\n",
    "def Get_score(Y_pred,Y_true):\n",
    "    '''Calculate the Spearmann\"s correlation coefficient'''\n",
    "    Y_pred = np.squeeze(Y_pred)\n",
    "    Y_true = np.squeeze(Y_true)\n",
    "    if Y_pred.shape != Y_true.shape:\n",
    "        print('Input shapes don\\'t match!')\n",
    "    else:\n",
    "        if len(Y_pred.shape) == 1:\n",
    "            Res = pd.DataFrame({'Y_true':Y_true,'Y_pred':Y_pred})\n",
    "            score_mat = Res[['Y_true','Y_pred']].corr(method='spearman',min_periods=1)\n",
    "           \n",
    "            return score_mat.iloc[1][0]\n",
    "        \n",
    "        else:\n",
    "            for ii in range(Y_pred.shape[1]):\n",
    "                Get_score(Y_pred[:,ii],Y_true[:,ii])\n",
    "                \n",
    "            return None"
   ]
  },
  {
   "cell_type": "markdown",
   "metadata": {},
   "source": [
    "Through study and investigation, the SVR, RFR and BayesianRidge models performed better on this problem. Then since the XGBoost model has a very good performance in regression, I plan to use these 4 models to test and evaluate each of my selected features to select the best combination of models."
   ]
  },
  {
   "cell_type": "code",
   "execution_count": 19,
   "metadata": {},
   "outputs": [
    {
     "name": "stdout",
     "output_type": "stream",
     "text": [
      "SVR model test HMP feature: The STM Spearman's correlation coefficient is 0.304\n",
      "SVR model test HMP feature: The LTM Spearman's correlation coefficient is 0.186\n"
     ]
    }
   ],
   "source": [
    "#model test\n",
    "#SVR models test HMP feature\n",
    "svr = SVR(kernel='linear', C=1.25)\n",
    "x_train,x_test,y_train,y_test = train_test_split(x_hmp_feature, y_stm_target, random_state = 44,  test_size=0.25)\n",
    "svr.fit(x_train, y_train)\n",
    "y_stm_predict = svr.predict(x_test)\n",
    "\n",
    "x_train,x_test,y_train,y_test = train_test_split(x_hmp_feature, y_ltm_target, random_state = 44,  test_size=0.25)\n",
    "svr.fit(x_train, y_train)\n",
    "y_ltm_predict = svr.predict(x_test)\n",
    "\n",
    "svr_hmp_stm = Get_score(y_stm_predict,y_test)\n",
    "svr_hmp_ltm = Get_score(y_ltm_predict,y_test)\n",
    "\n",
    "print(\"SVR model test HMP feature: The STM Spearman\\'s correlation coefficient is %.3f\" % svr_hmp_stm)\n",
    "print(\"SVR model test HMP feature: The LTM Spearman\\'s correlation coefficient is %.3f\" % svr_hmp_ltm)\n"
   ]
  },
  {
   "cell_type": "code",
   "execution_count": 20,
   "metadata": {},
   "outputs": [
    {
     "name": "stdout",
     "output_type": "stream",
     "text": [
      "SVR model test C3D feature: The STM Spearman's correlation coefficient is 0.273\n",
      "SVR model test C3D feature: The LTM Spearman's correlation coefficient is 0.191\n"
     ]
    }
   ],
   "source": [
    "#SVR models test C3D feature\n",
    "svr = SVR(kernel='linear', C=1.25)\n",
    "x_train,x_test,y_train,y_test = train_test_split(x_c3d_feature, y_stm_target, random_state = 44,  test_size=0.25)\n",
    "svr.fit(x_train, y_train)\n",
    "y_stm_predict = svr.predict(x_test)\n",
    "\n",
    "x_train,x_test,y_train,y_test = train_test_split(x_c3d_feature, y_ltm_target, random_state = 44,  test_size=0.25)\n",
    "svr.fit(x_train, y_train)\n",
    "y_ltm_predict = svr.predict(x_test)\n",
    "\n",
    "svr_c3d_stm = Get_score(y_stm_predict,y_test)\n",
    "svr_c3d_ltm = Get_score(y_ltm_predict,y_test)\n",
    "\n",
    "print(\"SVR model test C3D feature: The STM Spearman\\'s correlation coefficient is %.3f\" % svr_c3d_stm)\n",
    "print(\"SVR model test C3D feature: The LTM Spearman\\'s correlation coefficient is %.3f\" % svr_c3d_ltm)\n"
   ]
  },
  {
   "cell_type": "code",
   "execution_count": 21,
   "metadata": {},
   "outputs": [
    {
     "name": "stdout",
     "output_type": "stream",
     "text": [
      "SVR model test LBP feature: The STM Spearman's correlation coefficient is 0.238\n",
      "SVR model test LBP feature: The LTM Spearman's correlation coefficient is 0.171\n"
     ]
    }
   ],
   "source": [
    "#SVR models test LBP feature\n",
    "svr = SVR(kernel='linear', C=1.25)\n",
    "x_train,x_test,y_train,y_test = train_test_split(x_lbp_feature, y_stm_target, random_state = 44,  test_size=0.25)\n",
    "svr.fit(x_train, y_train)\n",
    "y_stm_predict = svr.predict(x_test)\n",
    "\n",
    "x_train,x_test,y_train,y_test = train_test_split(x_lbp_feature, y_ltm_target, random_state = 44,  test_size=0.25)\n",
    "svr.fit(x_train, y_train)\n",
    "y_ltm_predict = svr.predict(x_test)\n",
    "\n",
    "svr_lbp_stm = Get_score(y_stm_predict,y_test)\n",
    "svr_lbp_ltm = Get_score(y_ltm_predict,y_test)\n",
    "\n",
    "print(\"SVR model test LBP feature: The STM Spearman\\'s correlation coefficient is %.3f\" % svr_lbp_stm)\n",
    "print(\"SVR model test LBP feature: The LTM Spearman\\'s correlation coefficient is %.3f\" % svr_lbp_ltm)"
   ]
  },
  {
   "cell_type": "code",
   "execution_count": 22,
   "metadata": {},
   "outputs": [
    {
     "name": "stdout",
     "output_type": "stream",
     "text": [
      "SVR model test EAS feature: The STM Spearman's correlation coefficient is 0.221\n",
      "SVR model test EAS feature: The LTM Spearman's correlation coefficient is 0.122\n"
     ]
    }
   ],
   "source": [
    "#SVR models test aesthetic_mean_ feature\n",
    "svr = SVR(kernel='linear', C=1.25)\n",
    "x_train,x_test,y_train,y_test = train_test_split(x_aes_mean, y_stm_target, random_state = 44,  test_size=0.25)\n",
    "transfer = StandardScaler()\n",
    "x_train = transfer.fit_transform(x_train)\n",
    "x_test = transfer.fit_transform(x_test)\n",
    "svr.fit(x_train, y_train)\n",
    "y_stm_predict = svr.predict(x_test)\n",
    "\n",
    "x_train,x_test,y_train,y_test = train_test_split(x_aes_mean, y_ltm_target, random_state = 44,  test_size=0.25)\n",
    "transfer = StandardScaler()\n",
    "x_train = transfer.fit_transform(x_train)\n",
    "x_test = transfer.fit_transform(x_test)\n",
    "svr.fit(x_train, y_train)\n",
    "y_ltm_predict = svr.predict(x_test)\n",
    "\n",
    "svr_eas_stm = Get_score(y_stm_predict,y_test)\n",
    "svr_eas_ltm = Get_score(y_ltm_predict,y_test)\n",
    "\n",
    "print(\"SVR model test EAS feature: The STM Spearman\\'s correlation coefficient is %.3f\" % svr_eas_stm)\n",
    "print(\"SVR model test EAS feature: The LTM Spearman\\'s correlation coefficient is %.3f\" % svr_eas_ltm)"
   ]
  },
  {
   "cell_type": "code",
   "execution_count": 23,
   "metadata": {},
   "outputs": [
    {
     "name": "stdout",
     "output_type": "stream",
     "text": [
      "RFR model test HMP feature: The STM Spearman's correlation coefficient is 0.247\n",
      "RFR model test HMP feature: The LTM Spearman's correlation coefficient is 0.190\n"
     ]
    }
   ],
   "source": [
    "#RFR models test HMP feature\n",
    "rfr = RandomForestRegressor(n_jobs=7)\n",
    "x_train,x_test,y_train,y_test = train_test_split(x_hmp_feature, y_stm_target, random_state = 44,  test_size=0.25)\n",
    "rfr.fit(x_train, y_train)\n",
    "y_stm_predict = rfr.predict(x_test)\n",
    "\n",
    "x_train,x_test,y_train,y_test = train_test_split(x_hmp_feature, y_ltm_target, random_state = 44,  test_size=0.25)\n",
    "rfr.fit(x_train, y_train)\n",
    "y_ltm_predict = rfr.predict(x_test)\n",
    "\n",
    "rfr_hmp_stm = Get_score(y_stm_predict,y_test)\n",
    "rfr_hmp_ltm = Get_score(y_ltm_predict,y_test)\n",
    "\n",
    "print(\"RFR model test HMP feature: The STM Spearman\\'s correlation coefficient is %.3f\" % rfr_hmp_stm)\n",
    "print(\"RFR model test HMP feature: The LTM Spearman\\'s correlation coefficient is %.3f\" % rfr_hmp_ltm)\n"
   ]
  },
  {
   "cell_type": "code",
   "execution_count": 24,
   "metadata": {},
   "outputs": [
    {
     "name": "stdout",
     "output_type": "stream",
     "text": [
      "RFR model test C3D feature: The STM Spearman's correlation coefficient is 0.374\n",
      "RFR model test C3D feature: The LTM Spearman's correlation coefficient is 0.165\n"
     ]
    }
   ],
   "source": [
    "#RFR models test C3D feature\n",
    "rfr = RandomForestRegressor(n_jobs=7)\n",
    "x_train,x_test,y_train,y_test = train_test_split(x_c3d_feature, y_stm_target, random_state = 44,  test_size=0.25)\n",
    "rfr.fit(x_train, y_train)\n",
    "y_stm_predict = rfr.predict(x_test)\n",
    "\n",
    "x_train,x_test,y_train,y_test = train_test_split(x_c3d_feature, y_ltm_target, random_state = 44,  test_size=0.25)\n",
    "rfr.fit(x_train, y_train)\n",
    "y_ltm_predict = rfr.predict(x_test)\n",
    "\n",
    "rfr_c3d_stm = Get_score(y_stm_predict,y_test)\n",
    "rfr_c3d_ltm = Get_score(y_ltm_predict,y_test)\n",
    "\n",
    "print(\"RFR model test C3D feature: The STM Spearman\\'s correlation coefficient is %.3f\" % rfr_c3d_stm)\n",
    "print(\"RFR model test C3D feature: The LTM Spearman\\'s correlation coefficient is %.3f\" % rfr_c3d_ltm)\n"
   ]
  },
  {
   "cell_type": "code",
   "execution_count": 25,
   "metadata": {},
   "outputs": [
    {
     "name": "stdout",
     "output_type": "stream",
     "text": [
      "RFR model test LBP feature: The STM Spearman's correlation coefficient is 0.225\n",
      "RFR model test LBP feature: The LTM Spearman's correlation coefficient is 0.203\n"
     ]
    }
   ],
   "source": [
    "#RFR models test LBP feature\n",
    "rfr = RandomForestRegressor(n_jobs=7)\n",
    "x_train,x_test,y_train,y_test = train_test_split(x_lbp_feature, y_stm_target, random_state = 44,  test_size=0.25)\n",
    "rfr.fit(x_train, y_train)\n",
    "y_stm_predict = rfr.predict(x_test)\n",
    "\n",
    "x_train,x_test,y_train,y_test = train_test_split(x_lbp_feature, y_ltm_target, random_state = 44,  test_size=0.25)\n",
    "rfr.fit(x_train, y_train)\n",
    "y_ltm_predict = rfr.predict(x_test)\n",
    "\n",
    "rfr_lbp_stm = Get_score(y_stm_predict,y_test)\n",
    "rfr_lbp_ltm = Get_score(y_ltm_predict,y_test)\n",
    "\n",
    "print(\"RFR model test LBP feature: The STM Spearman\\'s correlation coefficient is %.3f\" % rfr_lbp_stm)\n",
    "print(\"RFR model test LBP feature: The LTM Spearman\\'s correlation coefficient is %.3f\" % rfr_lbp_ltm)"
   ]
  },
  {
   "cell_type": "code",
   "execution_count": 26,
   "metadata": {},
   "outputs": [
    {
     "name": "stdout",
     "output_type": "stream",
     "text": [
      "RFR model test EAS feature: The STM Spearman's correlation coefficient is 0.276\n",
      "RFR model test EAS feature: The LTM Spearman's correlation coefficient is 0.196\n"
     ]
    }
   ],
   "source": [
    "#RFR models test aesthetic_mean_ feature\n",
    "rfr = RandomForestRegressor(n_jobs=7)\n",
    "x_train,x_test,y_train,y_test = train_test_split(x_aes_mean, y_stm_target, random_state = 44,  test_size=0.25)\n",
    "transfer = StandardScaler()\n",
    "x_train = transfer.fit_transform(x_train)\n",
    "x_test = transfer.fit_transform(x_test)\n",
    "rfr.fit(x_train, y_train)\n",
    "y_stm_predict = rfr.predict(x_test)\n",
    "\n",
    "x_train,x_test,y_train,y_test = train_test_split(x_aes_mean, y_ltm_target, random_state = 44,  test_size=0.25)\n",
    "transfer = StandardScaler()\n",
    "x_train = transfer.fit_transform(x_train)\n",
    "x_test = transfer.fit_transform(x_test)\n",
    "rfr.fit(x_train, y_train)\n",
    "y_ltm_predict = rfr.predict(x_test)\n",
    "\n",
    "rfr_eas_stm = Get_score(y_stm_predict,y_test)\n",
    "rfr_eas_ltm = Get_score(y_ltm_predict,y_test)\n",
    "\n",
    "print(\"RFR model test EAS feature: The STM Spearman\\'s correlation coefficient is %.3f\" % rfr_eas_stm)\n",
    "print(\"RFR model test EAS feature: The LTM Spearman\\'s correlation coefficient is %.3f\" % rfr_eas_ltm)"
   ]
  },
  {
   "cell_type": "code",
   "execution_count": 27,
   "metadata": {},
   "outputs": [
    {
     "name": "stdout",
     "output_type": "stream",
     "text": [
      "BR model test HMP feature: The STM Spearman's correlation coefficient is 0.254\n",
      "BR model test HMP feature: The LTM Spearman's correlation coefficient is 0.191\n"
     ]
    }
   ],
   "source": [
    "#BayesianRidge models test HMP feature\n",
    "br = BayesianRidge()\n",
    "x_train,x_test,y_train,y_test = train_test_split(x_hmp_feature, y_stm_target, random_state = 44,  test_size=0.25)\n",
    "br.fit(x_train, y_train)\n",
    "y_stm_predict = br.predict(x_test)\n",
    "\n",
    "x_train,x_test,y_train,y_test = train_test_split(x_hmp_feature, y_ltm_target, random_state = 44,  test_size=0.25)\n",
    "br.fit(x_train, y_train)\n",
    "y_ltm_predict = br.predict(x_test)\n",
    "\n",
    "br_hmp_stm = Get_score(y_stm_predict,y_test)\n",
    "br_hmp_ltm = Get_score(y_ltm_predict,y_test)\n",
    "\n",
    "print(\"BR model test HMP feature: The STM Spearman\\'s correlation coefficient is %.3f\" % br_hmp_stm)\n",
    "print(\"BR model test HMP feature: The LTM Spearman\\'s correlation coefficient is %.3f\" % br_hmp_ltm)"
   ]
  },
  {
   "cell_type": "code",
   "execution_count": 28,
   "metadata": {},
   "outputs": [
    {
     "name": "stdout",
     "output_type": "stream",
     "text": [
      "BR model test C3D feature: The STM Spearman's correlation coefficient is 0.228\n",
      "BR model test C3D feature: The LTM Spearman's correlation coefficient is 0.189\n"
     ]
    }
   ],
   "source": [
    "#BayesianRidge models test C3D feature\n",
    "br = BayesianRidge( )\n",
    "x_train,x_test,y_train,y_test = train_test_split(x_c3d_feature, y_stm_target, random_state = 44,  test_size=0.25)\n",
    "br.fit(x_train, y_train)\n",
    "y_stm_predict = br.predict(x_test)\n",
    "\n",
    "x_train,x_test,y_train,y_test = train_test_split(x_c3d_feature, y_ltm_target, random_state = 44,  test_size=0.25)\n",
    "br.fit(x_train, y_train)\n",
    "y_ltm_predict = br.predict(x_test)\n",
    "\n",
    "br_c3d_stm = Get_score(y_stm_predict,y_test)\n",
    "br_c3d_ltm = Get_score(y_ltm_predict,y_test)\n",
    "\n",
    "print(\"BR model test C3D feature: The STM Spearman\\'s correlation coefficient is %.3f\" % br_c3d_stm)\n",
    "print(\"BR model test C3D feature: The LTM Spearman\\'s correlation coefficient is %.3f\" % br_c3d_ltm)\n"
   ]
  },
  {
   "cell_type": "code",
   "execution_count": 29,
   "metadata": {},
   "outputs": [
    {
     "name": "stdout",
     "output_type": "stream",
     "text": [
      "BR model test LBP feature: The STM Spearman's correlation coefficient is 0.184\n",
      "BR model test LBP feature: The LTM Spearman's correlation coefficient is 0.146\n"
     ]
    }
   ],
   "source": [
    "#BayesianRidge models test LBP feature\n",
    "br = BayesianRidge()\n",
    "x_train,x_test,y_train,y_test = train_test_split(x_lbp_feature, y_stm_target, random_state = 44,  test_size=0.25)\n",
    "br.fit(x_train, y_train)\n",
    "y_stm_predict = br.predict(x_test)\n",
    "\n",
    "x_train,x_test,y_train,y_test = train_test_split(x_lbp_feature, y_ltm_target, random_state = 44,  test_size=0.25)\n",
    "br.fit(x_train, y_train)\n",
    "y_ltm_predict = br.predict(x_test)\n",
    "\n",
    "br_lbp_stm = Get_score(y_stm_predict,y_test)\n",
    "br_lbp_ltm = Get_score(y_ltm_predict,y_test)\n",
    "\n",
    "print(\"BR model test LBP feature: The STM Spearman\\'s correlation coefficient is %.3f\" % br_lbp_stm)\n",
    "print(\"BR model test LBP feature: The LTM Spearman\\'s correlation coefficient is %.3f\" % br_lbp_ltm)"
   ]
  },
  {
   "cell_type": "code",
   "execution_count": 30,
   "metadata": {},
   "outputs": [
    {
     "name": "stdout",
     "output_type": "stream",
     "text": [
      "BR model test EAS feature: The STM Spearman's correlation coefficient is 0.195\n",
      "BR model test EAS feature: The LTM Spearman's correlation coefficient is 0.183\n"
     ]
    }
   ],
   "source": [
    "#BayesianRidge models test aesthetic_mean_ feature\n",
    "br = BayesianRidge()\n",
    "x_train,x_test,y_train,y_test = train_test_split(x_aes_mean, y_stm_target, random_state = 44,  test_size=0.25)\n",
    "transfer = StandardScaler()\n",
    "x_train = transfer.fit_transform(x_train)\n",
    "x_test = transfer.fit_transform(x_test)\n",
    "br.fit(x_train, y_train)\n",
    "y_stm_predict = br.predict(x_test)\n",
    "\n",
    "x_train,x_test,y_train,y_test = train_test_split(x_aes_mean, y_ltm_target, random_state = 44,  test_size=0.25)\n",
    "transfer = StandardScaler()\n",
    "x_train = transfer.fit_transform(x_train)\n",
    "x_test = transfer.fit_transform(x_test)\n",
    "br.fit(x_train, y_train)\n",
    "y_ltm_predict = br.predict(x_test)\n",
    "\n",
    "br_eas_stm = Get_score(y_stm_predict,y_test)\n",
    "br_eas_ltm = Get_score(y_ltm_predict,y_test)\n",
    "\n",
    "print(\"BR model test EAS feature: The STM Spearman\\'s correlation coefficient is %.3f\" % br_eas_stm)\n",
    "print(\"BR model test EAS feature: The LTM Spearman\\'s correlation coefficient is %.3f\" % br_eas_ltm)"
   ]
  },
  {
   "cell_type": "code",
   "execution_count": 31,
   "metadata": {},
   "outputs": [
    {
     "name": "stdout",
     "output_type": "stream",
     "text": [
      "xgboost model test HMP feature: The STM Spearman's correlation coefficient is 0.088\n",
      "xgboost model test HMP feature: The LTM Spearman's correlation coefficient is 0.033\n"
     ]
    }
   ],
   "source": [
    "#XGBoost models test HMP feature\n",
    "xgboost = XGBClassifier(n_jobs = 7)\n",
    "x_train,x_test,y_train,y_test = train_test_split(x_hmp_feature, y_stm_target, random_state = 44,  test_size=0.25)\n",
    "xgboost.fit(x_train, y_train)\n",
    "y_stm_predict = xgboost.predict(x_test)\n",
    "\n",
    "x_train,x_test,y_train,y_test = train_test_split(x_hmp_feature, y_ltm_target, random_state = 44,  test_size=0.25)\n",
    "xgboost.fit(x_train, y_train)\n",
    "y_ltm_predict = xgboost.predict(x_test)\n",
    "\n",
    "xgboost_hmp_stm = Get_score(y_stm_predict,y_test)\n",
    "xgboost_hmp_ltm = Get_score(y_ltm_predict,y_test)\n",
    "\n",
    "print(\"xgboost model test HMP feature: The STM Spearman\\'s correlation coefficient is %.3f\" % xgboost_hmp_stm)\n",
    "print(\"xgboost model test HMP feature: The LTM Spearman\\'s correlation coefficient is %.3f\" % xgboost_hmp_ltm)"
   ]
  },
  {
   "cell_type": "code",
   "execution_count": 32,
   "metadata": {},
   "outputs": [
    {
     "name": "stdout",
     "output_type": "stream",
     "text": [
      "xgboost model test C3D feature: The STM Spearman's correlation coefficient is 0.110\n",
      "xgboost model test C3D feature: The LTM Spearman's correlation coefficient is 0.080\n"
     ]
    }
   ],
   "source": [
    "#XGBoost  models test C3D feature\n",
    "xgboost = XGBClassifier(n_jobs = 7)\n",
    "x_train,x_test,y_train,y_test = train_test_split(x_c3d_feature, y_stm_target, random_state = 44,  test_size=0.25)\n",
    "xgboost.fit(x_train, y_train)\n",
    "y_stm_predict = xgboost.predict(x_test)\n",
    "\n",
    "x_train,x_test,y_train,y_test = train_test_split(x_c3d_feature, y_ltm_target, random_state = 44,  test_size=0.25)\n",
    "xgboost.fit(x_train, y_train)\n",
    "y_ltm_predict = xgboost.predict(x_test)\n",
    "\n",
    "xgboost_c3d_stm = Get_score(y_stm_predict,y_test)\n",
    "xgboost_c3d_ltm = Get_score(y_ltm_predict,y_test)\n",
    "\n",
    "print(\"xgboost model test C3D feature: The STM Spearman\\'s correlation coefficient is %.3f\" % xgboost_c3d_stm)\n",
    "print(\"xgboost model test C3D feature: The LTM Spearman\\'s correlation coefficient is %.3f\" % xgboost_c3d_ltm)\n"
   ]
  },
  {
   "cell_type": "code",
   "execution_count": 33,
   "metadata": {},
   "outputs": [
    {
     "name": "stdout",
     "output_type": "stream",
     "text": [
      "xgboost model test LBP feature: The STM Spearman's correlation coefficient is 0.098\n",
      "xgboost model test LBP feature: The LTM Spearman's correlation coefficient is 0.010\n"
     ]
    }
   ],
   "source": [
    "#XGBoost models test LBP feature\n",
    "xgboost = XGBClassifier(n_jobs = 7)\n",
    "x_train,x_test,y_train,y_test = train_test_split(x_lbp_feature, y_stm_target, random_state = 44,  test_size=0.25)\n",
    "xgboost.fit(x_train, y_train)\n",
    "y_stm_predict = xgboost.predict(x_test)\n",
    "\n",
    "x_train,x_test,y_train,y_test = train_test_split(x_lbp_feature, y_ltm_target, random_state = 44,  test_size=0.25)\n",
    "xgboost.fit(x_train, y_train)\n",
    "y_ltm_predict = xgboost.predict(x_test)\n",
    "\n",
    "xgboost_lbp_stm = Get_score(y_stm_predict,y_test)\n",
    "xgboost_lbp_ltm = Get_score(y_ltm_predict,y_test)\n",
    "\n",
    "print(\"xgboost model test LBP feature: The STM Spearman\\'s correlation coefficient is %.3f\" % xgboost_lbp_stm)\n",
    "print(\"xgboost model test LBP feature: The LTM Spearman\\'s correlation coefficient is %.3f\" % xgboost_lbp_ltm)"
   ]
  },
  {
   "cell_type": "code",
   "execution_count": 34,
   "metadata": {},
   "outputs": [
    {
     "name": "stdout",
     "output_type": "stream",
     "text": [
      "xgboost model test EAS feature: The STM Spearman's correlation coefficient is 0.130\n",
      "xgboost model test EAS feature: The LTM Spearman's correlation coefficient is 0.030\n"
     ]
    }
   ],
   "source": [
    "#XGBoost models test aesthetic_mean_ feature\n",
    "xgboost = XGBClassifier(n_jobs = 7)\n",
    "x_train,x_test,y_train,y_test = train_test_split(x_aes_mean, y_stm_target, random_state = 44,  test_size=0.25)\n",
    "transfer = StandardScaler()\n",
    "x_train = transfer.fit_transform(x_train)\n",
    "x_test = transfer.fit_transform(x_test)\n",
    "xgboost.fit(x_train, y_train)\n",
    "y_stm_predict = xgboost.predict(x_test)\n",
    "\n",
    "x_train,x_test,y_train,y_test = train_test_split(x_aes_mean, y_ltm_target, random_state = 44,  test_size=0.25)\n",
    "transfer = StandardScaler()\n",
    "x_train = transfer.fit_transform(x_train)\n",
    "x_test = transfer.fit_transform(x_test)\n",
    "xgboost.fit(x_train, y_train)\n",
    "y_ltm_predict =xgboost.predict(x_test)\n",
    "\n",
    "xgboost_eas_stm = Get_score(y_stm_predict,y_test)\n",
    "xgboost_eas_ltm = Get_score(y_ltm_predict,y_test)\n",
    "\n",
    "print(\"xgboost model test EAS feature: The STM Spearman\\'s correlation coefficient is %.3f\" % xgboost_eas_stm)\n",
    "print(\"xgboost model test EAS feature: The LTM Spearman\\'s correlation coefficient is %.3f\" % xgboost_eas_ltm)"
   ]
  },
  {
   "cell_type": "code",
   "execution_count": 16,
   "metadata": {
    "scrolled": true
   },
   "outputs": [
    {
     "data": {
      "image/png": "[encoded data removed]",
      "text/plain": [
       "<Figure size 432x288 with 1 Axes>"
      ]
     },
     "metadata": {
      "needs_background": "light"
     },
     "output_type": "display_data"
    }
   ],
   "source": [
    "#Histogram to see how each model behaves on each feature\n",
    "#SVR model\n",
    "plt.bar([\"HMP\",\"C3D\",\"LBP\",\"EAS\"],[svr_hmp_stm,svr_c3d_stm,svr_lbp_stm,svr_eas_stm],label='short-term_memorability')\n",
    "plt.bar([\"HMP_\",\"C3D_\",\"LBP_\",\"EAS_\"],[svr_hmp_ltm,svr_c3d_ltm,svr_lbp_ltm,svr_eas_ltm],label='long-term_memorability')\n",
    "plt.title('SVR model')\n",
    "plt.ylim(0,0.4)\n",
    "plt.legend()\n",
    "plt.show()"
   ]
  },
  {
   "cell_type": "code",
   "execution_count": 17,
   "metadata": {},
   "outputs": [
    {
     "data": {
      "image/png": "[encoded data removed]",
      "text/plain": [
       "<Figure size 432x288 with 1 Axes>"
      ]
     },
     "metadata": {
      "needs_background": "light"
     },
     "output_type": "display_data"
    }
   ],
   "source": [
    "#RFR  model\n",
    "plt.bar([\"HMP\",\"C3D\",\"LBP\",\"EAS\"],[rfr_hmp_stm,rfr_c3d_stm,rfr_lbp_stm,rfr_eas_stm],label='short-term_memorability')\n",
    "plt.bar([\"HMP_\",\"C3D_\",\"LBP_\",\"EAS_\"],[rfr_hmp_ltm,rfr_c3d_ltm,rfr_lbp_ltm,rfr_eas_ltm],label='long-term_memorability')\n",
    "plt.title('RFR model')\n",
    "plt.ylim(0,0.4)\n",
    "plt.legend()\n",
    "plt.show()"
   ]
  },
  {
   "cell_type": "code",
   "execution_count": 18,
   "metadata": {},
   "outputs": [
    {
     "data": {
      "image/png": "[encoded data removed]",
      "text/plain": [
       "<Figure size 432x288 with 1 Axes>"
      ]
     },
     "metadata": {
      "needs_background": "light"
     },
     "output_type": "display_data"
    }
   ],
   "source": [
    "#BayesianRidge model\n",
    "plt.bar([\"HMP\",\"C3D\",\"LBP\",\"EAS\"],[br_hmp_stm,br_c3d_stm,br_lbp_stm,br_eas_stm],label='short-term_memorability')\n",
    "plt.bar([\"HMP_\",\"C3D_\",\"LBP_\",\"EAS_\"],[br_hmp_ltm,br_c3d_ltm,br_lbp_ltm,br_eas_ltm],label='long-term_memorability')\n",
    "plt.title('BayesianRidge model')\n",
    "plt.ylim(0,0.4)\n",
    "plt.legend()\n",
    "plt.show()"
   ]
  },
  {
   "cell_type": "code",
   "execution_count": 13,
   "metadata": {
    "scrolled": false
   },
   "outputs": [
    {
     "data": {
      "image/png": "[encoded data removed]",
      "text/plain": [
       "<Figure size 432x288 with 1 Axes>"
      ]
     },
     "metadata": {
      "needs_background": "light"
     },
     "output_type": "display_data"
    }
   ],
   "source": [
    "#xgboost model\n",
    "plt.bar([\"HMP\",\"C3D\",\"LBP\",\"EAS\"],[xgboost_hmp_stm,xgboost_c3d_stm,xgboost_lbp_stm,xgboost_eas_stm],label='short-term_memorability')\n",
    "plt.bar([\"HMP_\",\"C3D_\",\"LBP_\",\"EAS_\"],[xgboost_hmp_ltm,xgboost_c3d_ltm,xgboost_lbp_ltm,xgboost_eas_ltm],label='long-term_memorability')\n",
    "plt.title('xgboost model')\n",
    "plt.ylim(0,0.4)\n",
    "plt.legend()\n",
    "plt.show()"
   ]
  },
  {
   "cell_type": "code",
   "execution_count": 56,
   "metadata": {},
   "outputs": [],
   "source": [
    "#All the models performed better except the XGboost model, which I gave up using and now I don't think it applies to this problem.\n",
    "#for short-term_memorability target, I choose SVR_HMP(SVR model, HMP feature as input) ,RFR_LBP and BR_EAS\n",
    "#for long-term_memorability target, I choose SVR_C3D,RFR_EAS and BR_HMP\n",
    "\n",
    "#Set model weights for short-term_memorability target\n",
    "w_total = svr_hmp_stm + rfr_c3d_stm + rfr_eas_stm\n",
    "sh = svr_hmp_stm/w_total\n",
    "rc = rfr_c3d_stm/w_total\n",
    "re = rfr_eas_stm/w_total\n",
    "\n",
    "#Set model weights for short-term_memorability target\n",
    "w_total = svr_c3d_ltm + rfr_eas_ltm + br_hmp_ltm\n",
    "sc = svr_c3d_ltm/w_total\n",
    "re = rfr_eas_ltm/w_total\n",
    "bh = br_hmp_ltm/w_total\n"
   ]
  },
  {
   "cell_type": "code",
   "execution_count": 58,
   "metadata": {},
   "outputs": [
    {
     "data": {
      "text/html": [
       "<div>\n",
       "<style scoped>\n",
       "    .dataframe tbody tr th:only-of-type {\n",
       "        vertical-align: middle;\n",
       "    }\n",
       "\n",
       "    .dataframe tbody tr th {\n",
       "        vertical-align: top;\n",
       "    }\n",
       "\n",
       "    .dataframe thead th {\n",
       "        text-align: right;\n",
       "    }\n",
       "</style>\n",
       "<table border=\"1\" class=\"dataframe\">\n",
       "  <thead>\n",
       "    <tr style=\"text-align: right;\">\n",
       "      <th></th>\n",
       "      <th>video</th>\n",
       "      <th>short-term_memorability</th>\n",
       "      <th>nb_short-term_annotations</th>\n",
       "      <th>long-term_memorability</th>\n",
       "      <th>nb_long-term_annotations</th>\n",
       "    </tr>\n",
       "  </thead>\n",
       "  <tbody>\n",
       "    <tr>\n",
       "      <th>0</th>\n",
       "      <td>7494</td>\n",
       "      <td>NaN</td>\n",
       "      <td>33</td>\n",
       "      <td>NaN</td>\n",
       "      <td>12</td>\n",
       "    </tr>\n",
       "    <tr>\n",
       "      <th>1</th>\n",
       "      <td>7495</td>\n",
       "      <td>NaN</td>\n",
       "      <td>34</td>\n",
       "      <td>NaN</td>\n",
       "      <td>10</td>\n",
       "    </tr>\n",
       "    <tr>\n",
       "      <th>2</th>\n",
       "      <td>7496</td>\n",
       "      <td>NaN</td>\n",
       "      <td>32</td>\n",
       "      <td>NaN</td>\n",
       "      <td>13</td>\n",
       "    </tr>\n",
       "    <tr>\n",
       "      <th>3</th>\n",
       "      <td>7497</td>\n",
       "      <td>NaN</td>\n",
       "      <td>33</td>\n",
       "      <td>NaN</td>\n",
       "      <td>10</td>\n",
       "    </tr>\n",
       "    <tr>\n",
       "      <th>4</th>\n",
       "      <td>7498</td>\n",
       "      <td>NaN</td>\n",
       "      <td>33</td>\n",
       "      <td>NaN</td>\n",
       "      <td>10</td>\n",
       "    </tr>\n",
       "    <tr>\n",
       "      <th>...</th>\n",
       "      <td>...</td>\n",
       "      <td>...</td>\n",
       "      <td>...</td>\n",
       "      <td>...</td>\n",
       "      <td>...</td>\n",
       "    </tr>\n",
       "    <tr>\n",
       "      <th>1995</th>\n",
       "      <td>10004</td>\n",
       "      <td>NaN</td>\n",
       "      <td>34</td>\n",
       "      <td>NaN</td>\n",
       "      <td>17</td>\n",
       "    </tr>\n",
       "    <tr>\n",
       "      <th>1996</th>\n",
       "      <td>10005</td>\n",
       "      <td>NaN</td>\n",
       "      <td>34</td>\n",
       "      <td>NaN</td>\n",
       "      <td>9</td>\n",
       "    </tr>\n",
       "    <tr>\n",
       "      <th>1997</th>\n",
       "      <td>10006</td>\n",
       "      <td>NaN</td>\n",
       "      <td>34</td>\n",
       "      <td>NaN</td>\n",
       "      <td>12</td>\n",
       "    </tr>\n",
       "    <tr>\n",
       "      <th>1998</th>\n",
       "      <td>10007</td>\n",
       "      <td>NaN</td>\n",
       "      <td>34</td>\n",
       "      <td>NaN</td>\n",
       "      <td>12</td>\n",
       "    </tr>\n",
       "    <tr>\n",
       "      <th>1999</th>\n",
       "      <td>10008</td>\n",
       "      <td>NaN</td>\n",
       "      <td>33</td>\n",
       "      <td>NaN</td>\n",
       "      <td>10</td>\n",
       "    </tr>\n",
       "  </tbody>\n",
       "</table>\n",
       "<p>2000 rows × 5 columns</p>\n",
       "</div>"
      ],
      "text/plain": [
       "      video  short-term_memorability  nb_short-term_annotations  \\\n",
       "0      7494                      NaN                         33   \n",
       "1      7495                      NaN                         34   \n",
       "2      7496                      NaN                         32   \n",
       "3      7497                      NaN                         33   \n",
       "4      7498                      NaN                         33   \n",
       "...     ...                      ...                        ...   \n",
       "1995  10004                      NaN                         34   \n",
       "1996  10005                      NaN                         34   \n",
       "1997  10006                      NaN                         34   \n",
       "1998  10007                      NaN                         34   \n",
       "1999  10008                      NaN                         33   \n",
       "\n",
       "      long-term_memorability  nb_long-term_annotations  \n",
       "0                        NaN                        12  \n",
       "1                        NaN                        10  \n",
       "2                        NaN                        13  \n",
       "3                        NaN                        10  \n",
       "4                        NaN                        10  \n",
       "...                      ...                       ...  \n",
       "1995                     NaN                        17  \n",
       "1996                     NaN                         9  \n",
       "1997                     NaN                        12  \n",
       "1998                     NaN                        12  \n",
       "1999                     NaN                        10  \n",
       "\n",
       "[2000 rows x 5 columns]"
      ]
     },
     "execution_count": 58,
     "metadata": {},
     "output_type": "execute_result"
    }
   ],
   "source": [
    "# load the ground truth values temp\n",
    "labels_tem=pd.read_csv(\"Test_set/Ground-truth_test/ground_truth_template.csv\")\n",
    "labels_tem"
   ]
  },
  {
   "cell_type": "code",
   "execution_count": 64,
   "metadata": {},
   "outputs": [],
   "source": [
    "#since I need to get the test feature data, \n",
    "#so we need to re-get the video num so that I can get features by dunctions\n",
    "#get video num\n",
    "vname = labels_tem.video\n",
    "vnum = vname.map(lambda x: str(x))"
   ]
  },
  {
   "cell_type": "code",
   "execution_count": null,
   "metadata": {},
   "outputs": [],
   "source": [
    "#load prediction features\n",
    "hmp_feature = get_features(\"Test_set/HMP_test/\",read_HMP)\n",
    "eas_feature = get_features(\"Test_set/aesthetic_vis_features_test/mean/\",read_AES)\n",
    "c3d_feature = get_features(\"Test_set/C3D_test/\",read_C3D)\n",
    "lbp_feature = get_lbp_feature(lbp_len,\"Test_set/LBP_test/\",read_LBP)"
   ]
  },
  {
   "cell_type": "code",
   "execution_count": null,
   "metadata": {},
   "outputs": [],
   "source": [
    "#SVR_HMP model for short-term_memorability target\n",
    "svr = SVR(kernel='linear', C=1.25)\n",
    "svr.fit(x_hmp_feature, y_stm_target)\n",
    "stm_sh_predict = svr.predict(hmp_feature)\n"
   ]
  },
  {
   "cell_type": "code",
   "execution_count": null,
   "metadata": {},
   "outputs": [],
   "source": [
    "#RFR_C3D model for short-term_memorability target\n",
    "rfr = RandomForestRegressor(n_jobs=7)\n",
    "rfr.fit(x_c3d_feature, y_stm_target)\n",
    "stm_rc_predict = rfr.predict(c3d_feature)"
   ]
  },
  {
   "cell_type": "code",
   "execution_count": null,
   "metadata": {},
   "outputs": [],
   "source": [
    "#RFR_EAS model for short-term_memorability target\n",
    "rfr = RandomForestRegressor(n_jobs=7)\n",
    "rfr.fit(x_eas_feature, y_stm_target)\n",
    "stm_re_predict = rfr.predict(eas_feature)"
   ]
  },
  {
   "cell_type": "code",
   "execution_count": null,
   "metadata": {},
   "outputs": [],
   "source": [
    "#SVR_C3D model for long-term_memorability target\n",
    "svr = SVR(kernel='linear', C=1.25)\n",
    "svr.fit(x_c3d_feature, y_ltm_target)\n",
    "ltm_sc_predict = svr.predict(c3d_feature)"
   ]
  },
  {
   "cell_type": "code",
   "execution_count": null,
   "metadata": {},
   "outputs": [],
   "source": [
    "#RFR_EAS  model for long-term_memorability target\n",
    "rfr = RandomForestRegressor(n_jobs=7)\n",
    "rfr.fit(x_eas_feature, y_ltm_target)\n",
    "ltm_re_predict = rfr.predict(eas_feature)"
   ]
  },
  {
   "cell_type": "code",
   "execution_count": null,
   "metadata": {},
   "outputs": [],
   "source": [
    "#BR_HMP model for long-term_memorability target\n",
    "br = BayesianRidge()\n",
    "br.fit(x_hmp_feature, y_ltm_target)\n",
    "ltm_bh_predict = br.predict(hmp_feature)"
   ]
  },
  {
   "cell_type": "code",
   "execution_count": 80,
   "metadata": {},
   "outputs": [
    {
     "data": {
      "text/plain": [
       "array([0.86480475, 0.82630114, 0.86865676, ..., 0.87424482, 0.82687009,\n",
       "       0.89980873])"
      ]
     },
     "execution_count": 80,
     "metadata": {},
     "output_type": "execute_result"
    }
   ],
   "source": [
    "#get a Multi-modal to get final target prediction\n",
    "#the final short-term_memorability prediction\n",
    "stm_predict = (sh * stm_sh_predict) + (rc * stm_rc_predict) + (re * stm_re_predict) \n",
    "stm_predict"
   ]
  },
  {
   "cell_type": "code",
   "execution_count": 81,
   "metadata": {},
   "outputs": [
    {
     "data": {
      "text/plain": [
       "array([0.80484214, 0.75700107, 0.807141  , ..., 0.81572903, 0.77873349,\n",
       "       0.83791676])"
      ]
     },
     "execution_count": 81,
     "metadata": {},
     "output_type": "execute_result"
    }
   ],
   "source": [
    "#the final long-term_memorability prediction\n",
    "ltm_predict = (sc * ltm_sc_predict) + (re * ltm_re_predict) + (bh * ltm_bh_predict)\n",
    "ltm_predict"
   ]
  },
  {
   "cell_type": "code",
   "execution_count": 82,
   "metadata": {},
   "outputs": [
    {
     "data": {
      "text/html": [
       "<div>\n",
       "<style scoped>\n",
       "    .dataframe tbody tr th:only-of-type {\n",
       "        vertical-align: middle;\n",
       "    }\n",
       "\n",
       "    .dataframe tbody tr th {\n",
       "        vertical-align: top;\n",
       "    }\n",
       "\n",
       "    .dataframe thead th {\n",
       "        text-align: right;\n",
       "    }\n",
       "</style>\n",
       "<table border=\"1\" class=\"dataframe\">\n",
       "  <thead>\n",
       "    <tr style=\"text-align: right;\">\n",
       "      <th></th>\n",
       "      <th>video</th>\n",
       "      <th>short-term_memorability</th>\n",
       "      <th>nb_short-term_annotations</th>\n",
       "      <th>long-term_memorability</th>\n",
       "      <th>nb_long-term_annotations</th>\n",
       "    </tr>\n",
       "  </thead>\n",
       "  <tbody>\n",
       "    <tr>\n",
       "      <th>0</th>\n",
       "      <td>7494</td>\n",
       "      <td>0.864805</td>\n",
       "      <td>33</td>\n",
       "      <td>0.804842</td>\n",
       "      <td>12</td>\n",
       "    </tr>\n",
       "    <tr>\n",
       "      <th>1</th>\n",
       "      <td>7495</td>\n",
       "      <td>0.826301</td>\n",
       "      <td>34</td>\n",
       "      <td>0.757001</td>\n",
       "      <td>10</td>\n",
       "    </tr>\n",
       "    <tr>\n",
       "      <th>2</th>\n",
       "      <td>7496</td>\n",
       "      <td>0.868657</td>\n",
       "      <td>32</td>\n",
       "      <td>0.807141</td>\n",
       "      <td>13</td>\n",
       "    </tr>\n",
       "    <tr>\n",
       "      <th>3</th>\n",
       "      <td>7497</td>\n",
       "      <td>0.861414</td>\n",
       "      <td>33</td>\n",
       "      <td>0.758540</td>\n",
       "      <td>10</td>\n",
       "    </tr>\n",
       "    <tr>\n",
       "      <th>4</th>\n",
       "      <td>7498</td>\n",
       "      <td>0.872343</td>\n",
       "      <td>33</td>\n",
       "      <td>0.807968</td>\n",
       "      <td>10</td>\n",
       "    </tr>\n",
       "    <tr>\n",
       "      <th>...</th>\n",
       "      <td>...</td>\n",
       "      <td>...</td>\n",
       "      <td>...</td>\n",
       "      <td>...</td>\n",
       "      <td>...</td>\n",
       "    </tr>\n",
       "    <tr>\n",
       "      <th>1995</th>\n",
       "      <td>10004</td>\n",
       "      <td>0.852893</td>\n",
       "      <td>34</td>\n",
       "      <td>0.796260</td>\n",
       "      <td>17</td>\n",
       "    </tr>\n",
       "    <tr>\n",
       "      <th>1996</th>\n",
       "      <td>10005</td>\n",
       "      <td>0.865800</td>\n",
       "      <td>34</td>\n",
       "      <td>0.802041</td>\n",
       "      <td>9</td>\n",
       "    </tr>\n",
       "    <tr>\n",
       "      <th>1997</th>\n",
       "      <td>10006</td>\n",
       "      <td>0.874245</td>\n",
       "      <td>34</td>\n",
       "      <td>0.815729</td>\n",
       "      <td>12</td>\n",
       "    </tr>\n",
       "    <tr>\n",
       "      <th>1998</th>\n",
       "      <td>10007</td>\n",
       "      <td>0.826870</td>\n",
       "      <td>34</td>\n",
       "      <td>0.778733</td>\n",
       "      <td>12</td>\n",
       "    </tr>\n",
       "    <tr>\n",
       "      <th>1999</th>\n",
       "      <td>10008</td>\n",
       "      <td>0.899809</td>\n",
       "      <td>33</td>\n",
       "      <td>0.837917</td>\n",
       "      <td>10</td>\n",
       "    </tr>\n",
       "  </tbody>\n",
       "</table>\n",
       "<p>2000 rows × 5 columns</p>\n",
       "</div>"
      ],
      "text/plain": [
       "      video  short-term_memorability  nb_short-term_annotations  \\\n",
       "0      7494                 0.864805                         33   \n",
       "1      7495                 0.826301                         34   \n",
       "2      7496                 0.868657                         32   \n",
       "3      7497                 0.861414                         33   \n",
       "4      7498                 0.872343                         33   \n",
       "...     ...                      ...                        ...   \n",
       "1995  10004                 0.852893                         34   \n",
       "1996  10005                 0.865800                         34   \n",
       "1997  10006                 0.874245                         34   \n",
       "1998  10007                 0.826870                         34   \n",
       "1999  10008                 0.899809                         33   \n",
       "\n",
       "      long-term_memorability  nb_long-term_annotations  \n",
       "0                   0.804842                        12  \n",
       "1                   0.757001                        10  \n",
       "2                   0.807141                        13  \n",
       "3                   0.758540                        10  \n",
       "4                   0.807968                        10  \n",
       "...                      ...                       ...  \n",
       "1995                0.796260                        17  \n",
       "1996                0.802041                         9  \n",
       "1997                0.815729                        12  \n",
       "1998                0.778733                        12  \n",
       "1999                0.837917                        10  \n",
       "\n",
       "[2000 rows x 5 columns]"
      ]
     },
     "execution_count": 82,
     "metadata": {},
     "output_type": "execute_result"
    }
   ],
   "source": [
    "#get a final DataFrame\n",
    "ground_truth_prediction = DataFrame(vname)\n",
    "ground_truth_prediction[\"short-term_memorability\"] = stm_predic\n",
    "ground_truth_prediction[\"nb_short-term_annotations\"] = labels_tem[\"nb_short-term_annotations\"]\n",
    "ground_truth_prediction[\"long-term_memorability\"] = ltm_predict\n",
    "ground_truth_prediction[\"nb_long-term_annotations\"] = labels_tem[\"nb_long-term_annotations\"]\n",
    "ground_truth_prediction"
   ]
  },
  {
   "cell_type": "code",
   "execution_count": 68,
   "metadata": {},
   "outputs": [],
   "source": [
    "#generate the csv file\n",
    "ground_truth_prediction.to_csv(\"Yuwei_Chen_20213814_predictions.csv\")"
   ]
  },
  {
   "cell_type": "code",
   "execution_count": null,
   "metadata": {},
   "outputs": [],
   "source": []
  }
 ],
 "metadata": {
  "kernelspec": {
   "display_name": "Python 3",
   "language": "python",
   "name": "python3"
  },
  "language_info": {
   "codemirror_mode": {
    "name": "ipython",
    "version": 3
   },
   "file_extension": ".py",
   "mimetype": "text/x-python",
   "name": "python",
   "nbconvert_exporter": "python",
   "pygments_lexer": "ipython3",
   "version": "3.9.4"
  },
  "toc": {
   "base_numbering": 1,
   "nav_menu": {},
   "number_sections": true,
   "sideBar": true,
   "skip_h1_title": false,
   "title_cell": "Table of Contents",
   "title_sidebar": "Contents",
   "toc_cell": false,
   "toc_position": {},
   "toc_section_display": true,
   "toc_window_display": false
  }
 },
 "nbformat": 4,
 "nbformat_minor": 4
}
